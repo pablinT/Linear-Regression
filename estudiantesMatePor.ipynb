{
 "cells": [
  {
   "cell_type": "code",
   "execution_count": 1,
   "metadata": {},
   "outputs": [],
   "source": [
    "import pandas as pd\n",
    "import numpy as np\n",
    "import sklearn\n",
    "from sklearn import linear_model\n",
    "from sklearn.utils import shuffle\n"
   ]
  },
  {
   "cell_type": "markdown",
   "metadata": {},
   "source": [
    "El data set corresponde al desempeño en matemática de estudiantes de dos escuelas secundarias de Portugal. Los datos fueron obtenidos por medio de informes y cuestionarios. Quienes estudian cuentan con 3 notas durante el año:\n",
    "\n",
    "    *G1: la nota del primer perído (de 0 a 20)\n",
    "\n",
    "    *G2: la nota del segundo perído (de 0 a 20)\n",
    "\n",
    "    *G3: la nota del tercer perído (de 0 a 20)\n",
    "\n",
    "\n",
    "Fuente:\n",
    "http://www3.dsi.uminho.pt/pcortez\n",
    "\n",
    "Data set:\n",
    "https://archive.ics.uci.edu/ml/datasets/Student+Performance\n",
    "\n"
   ]
  },
  {
   "cell_type": "markdown",
   "metadata": {},
   "source": [
    "De todos los atributos, nos quedamos con:\n",
    "\n",
    "    *studytime: tiempo de estudio semanal (1:menos de 2 horas, 2:de 2 a 5 horas, 3:de 5 a 10 horas, 4:más de 10 horas)\n",
    "\n",
    "    *failure: número de faltas a clase (n si 1<=n<3, sino 4)\n",
    "\n",
    "    *absences: número de ausencias escolares (de 0 a 93)"
   ]
  },
  {
   "cell_type": "code",
   "execution_count": 64,
   "metadata": {},
   "outputs": [
    {
     "name": "stdout",
     "output_type": "stream",
     "text": [
      "   G1  G2  G3  studytime  failures  absences\n",
      "0   5   6   6          2         0         6\n",
      "1   5   5   6          2         0         4\n",
      "2   7   8  10          2         3        10\n",
      "3  15  14  15          3         0         2\n",
      "4   6  10  10          2         0         4\n"
     ]
    }
   ],
   "source": [
    "\n",
    "data=pd.read_csv(\"student-mat.csv\",sep=\";\")\n",
    "\n",
    "data=data[[\"G1\",\"G2\",\"G3\",\"studytime\",\"failures\",\"absences\"]]\n",
    "\n",
    "print(data.head())\n",
    "\n",
    "\n"
   ]
  },
  {
   "cell_type": "code",
   "execution_count": 65,
   "metadata": {},
   "outputs": [
    {
     "data": {
      "text/plain": [
       "LinearRegression(copy_X=True, fit_intercept=True, n_jobs=None, normalize=False)"
      ]
     },
     "execution_count": 65,
     "metadata": {},
     "output_type": "execute_result"
    }
   ],
   "source": [
    "predict=\"G3\"\n",
    "\n",
    "#me quedo con\n",
    "X=np.array(data.drop([predict],1)) \n",
    "\n",
    "#la nota que vamos a predecir\n",
    "y=np.array(data[predict])\n",
    "\n",
    "#Tomo un 20% para testear\n",
    "x_train, x_test, y_train, y_test = sklearn.model_selection.train_test_split(X,y,test_size=0.2)\n",
    "\n",
    "\n",
    "#entreno\n",
    "linear = linear_model.LinearRegression()\n",
    "linear.fit(x_train,y_train)\n",
    "\n",
    "\n"
   ]
  },
  {
   "cell_type": "code",
   "execution_count": 66,
   "metadata": {},
   "outputs": [
    {
     "name": "stdout",
     "output_type": "stream",
     "text": [
      "0.873699714518905\n"
     ]
    }
   ],
   "source": [
    "#testeo\n",
    "precision=linear.score(x_test,y_test)\n",
    "print(precision)\n",
    "\n",
    "#print(\"coeficiente:\\n\", linear.coef_)\n",
    "#print(\"intercep:\\n\", linear.intercept_)\n",
    "\n",
    "#QUE ENTRENE HASTA QUE LA PRECISION SEA MAYOR A 85% Y QUE ME DIGA CUANTAS VUELTAS PEGO\n",
    "\n"
   ]
  },
  {
   "cell_type": "code",
   "execution_count": 67,
   "metadata": {},
   "outputs": [
    {
     "name": "stdout",
     "output_type": "stream",
     "text": [
      "    prediccion  G1  G2  studytime  failures  absences  G3 obtenido\n",
      "0    11.025014  13  11          2         0         4           11\n",
      "1    12.195413  13  11          3         1        40           11\n",
      "2    12.873937  14  13          3         1        12           13\n",
      "3    14.188680  15  14          2         0         2           14\n",
      "4    15.242665  14  15          1         0         3           16\n",
      "..         ...  ..  ..        ...       ...       ...          ...\n",
      "74    4.250648   8   6          2         2         2            5\n",
      "75   13.722359  13  14          2         0         0           15\n",
      "76    9.978341   9  11          3         0         2           11\n",
      "77    9.776250   8  10          1         0        12           10\n",
      "78    7.860308   9   9          1         2         8            9\n",
      "\n",
      "[79 rows x 7 columns]\n"
     ]
    }
   ],
   "source": [
    "predictions = linear.predict(x_test)\n",
    "\n",
    "\n",
    "\n",
    "dataset = pd.DataFrame({'prediccion': predictions,\n",
    "                        'G1': x_test[:,0], 'G2': x_test[:,1], 'studytime': x_test[:,2],'failures': x_test[:,3],'absences': x_test[:,4],\n",
    "                        'G3 obtenido':y_test\n",
    "                       } )\n",
    "\n",
    "print(dataset)"
   ]
  },
  {
   "cell_type": "code",
   "execution_count": null,
   "metadata": {},
   "outputs": [],
   "source": []
  }
 ],
 "metadata": {
  "kernelspec": {
   "display_name": "Python 3",
   "language": "python",
   "name": "python3"
  },
  "language_info": {
   "codemirror_mode": {
    "name": "ipython",
    "version": 3
   },
   "file_extension": ".py",
   "mimetype": "text/x-python",
   "name": "python",
   "nbconvert_exporter": "python",
   "pygments_lexer": "ipython3",
   "version": "3.7.6"
  }
 },
 "nbformat": 4,
 "nbformat_minor": 4
}
